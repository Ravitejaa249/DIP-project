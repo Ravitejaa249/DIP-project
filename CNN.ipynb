{
  "nbformat": 4,
  "nbformat_minor": 0,
  "metadata": {
    "colab": {
      "provenance": [],
      "gpuType": "T4",
      "authorship_tag": "ABX9TyO/e2aUhGZ5grGi+ZuXQSrD",
      "include_colab_link": true
    },
    "kernelspec": {
      "name": "python3",
      "display_name": "Python 3"
    },
    "language_info": {
      "name": "python"
    },
    "accelerator": "GPU"
  },
  "cells": [
    {
      "cell_type": "markdown",
      "metadata": {
        "id": "view-in-github",
        "colab_type": "text"
      },
      "source": [
        "<a href=\"https://colab.research.google.com/github/Ravitejaa249/DIP-project/blob/main/CNN.ipynb\" target=\"_parent\"><img src=\"https://colab.research.google.com/assets/colab-badge.svg\" alt=\"Open In Colab\"/></a>"
      ]
    },
    {
      "cell_type": "code",
      "execution_count": null,
      "metadata": {
        "colab": {
          "base_uri": "https://localhost:8080/"
        },
        "id": "Dsqtt6RKF59h",
        "outputId": "23cd34a0-62f6-411e-d320-030e344cc216"
      },
      "outputs": [
        {
          "output_type": "stream",
          "name": "stdout",
          "text": [
            "Drive already mounted at /content/drive; to attempt to forcibly remount, call drive.mount(\"/content/drive\", force_remount=True).\n"
          ]
        }
      ],
      "source": [
        "import torch\n",
        "import torch.nn as nn\n",
        "import torch.optim as optim\n",
        "from torchvision import datasets, transforms\n",
        "from torch.utils.data import DataLoader, random_split\n",
        "from PIL import Image\n",
        "import os\n",
        "from torchvision import transforms\n",
        "\n",
        "\n",
        "\n",
        "from google.colab import drive\n",
        "drive.mount('/content/drive')"
      ]
    },
    {
      "cell_type": "code",
      "source": [
        "device = torch.device(\"cuda\" if torch.cuda.is_available() else \"cpu\")\n"
      ],
      "metadata": {
        "id": "I4W1M705GWlM"
      },
      "execution_count": null,
      "outputs": []
    },
    {
      "cell_type": "code",
      "source": [
        "# Path to dataset\n",
        "data_path = \"/content/drive/MyDrive/AI-face-detection-Dataset\"\n",
        "\n",
        "# Image transformations\n",
        "transform = transforms.Compose([\n",
        "    transforms.Resize((128, 128)),\n",
        "    transforms.RandomHorizontalFlip(),\n",
        "    transforms.RandomRotation(10),\n",
        "    transforms.ColorJitter(brightness=0.2, contrast=0.2, saturation=0.2),\n",
        "    transforms.RandomResizedCrop(128, scale=(0.8, 1.0)),\n",
        "    transforms.ToTensor(),\n",
        "])\n",
        "\n",
        "# Load dataset\n",
        "full_dataset = datasets.ImageFolder(root=data_path, transform=transform)\n",
        "\n",
        "\n",
        "# Print class mappings\n",
        "print(\"Class to Index:\", full_dataset.class_to_idx)\n",
        "\n",
        "# Split dataset into 80% train, 20% val\n",
        "train_size = int(0.8 * len(full_dataset))\n",
        "val_size = len(full_dataset) - train_size\n",
        "train_dataset, val_dataset = random_split(full_dataset, [train_size, val_size])\n",
        "\n",
        "# Dataloaders\n",
        "train_loader = DataLoader(train_dataset, batch_size=32, shuffle=True)\n",
        "val_loader = DataLoader(val_dataset, batch_size=32, shuffle=False)\n"
      ],
      "metadata": {
        "colab": {
          "base_uri": "https://localhost:8080/"
        },
        "id": "nBsukBSvGXts",
        "outputId": "606e8fec-e843-4304-af96-6d76a2d769e1"
      },
      "execution_count": null,
      "outputs": [
        {
          "output_type": "stream",
          "name": "stdout",
          "text": [
            "Class to Index: {'AI': 0, 'real': 1}\n"
          ]
        }
      ]
    },
    {
      "cell_type": "code",
      "source": [
        "class DeepfakeCNN(nn.Module):\n",
        "    def __init__(self):\n",
        "        super(DeepfakeCNN, self).__init__()\n",
        "        self.features = nn.Sequential(\n",
        "            nn.Conv2d(3, 32, 3, padding=1),\n",
        "            nn.ReLU(),\n",
        "            nn.MaxPool2d(2),\n",
        "\n",
        "            nn.Conv2d(32, 64, 3, padding=1),\n",
        "            nn.ReLU(),\n",
        "            nn.MaxPool2d(2),\n",
        "\n",
        "            nn.Conv2d(64, 128, 3, padding=1),\n",
        "            nn.ReLU(),\n",
        "            nn.MaxPool2d(2),\n",
        "        )\n",
        "        self.classifier = nn.Sequential(\n",
        "            nn.Flatten(),\n",
        "            nn.Linear(128 * 16 * 16, 256),\n",
        "            nn.ReLU(),\n",
        "            nn.Dropout(0.5),\n",
        "            nn.Linear(256, 2)  # 2 classes: Fake, Real\n",
        "        )\n",
        "\n",
        "    def forward(self, x):\n",
        "        x = self.features(x)\n",
        "        x = self.classifier(x)\n",
        "        return x\n",
        "\n",
        "model = DeepfakeCNN().to(device)\n"
      ],
      "metadata": {
        "id": "hYe9ZOyRGf5D"
      },
      "execution_count": null,
      "outputs": []
    },
    {
      "cell_type": "code",
      "source": [
        "criterion = nn.CrossEntropyLoss()\n",
        "optimizer = optim.Adam(model.parameters(), lr=0.001)\n"
      ],
      "metadata": {
        "id": "bIN9ES2SGmBv"
      },
      "execution_count": null,
      "outputs": []
    },
    {
      "cell_type": "code",
      "source": [
        "num_epochs = 10\n",
        "\n",
        "for epoch in range(num_epochs):\n",
        "    model.train()\n",
        "    train_loss, train_correct, total = 0, 0, 0\n",
        "\n",
        "    for images, labels in train_loader:\n",
        "        images, labels = images.to(device), labels.to(device)\n",
        "\n",
        "        optimizer.zero_grad()\n",
        "        outputs = model(images)\n",
        "        loss = criterion(outputs, labels)\n",
        "        loss.backward()\n",
        "        optimizer.step()\n",
        "\n",
        "        train_loss += loss.item()\n",
        "        _, predicted = torch.max(outputs.data, 1)\n",
        "        total += labels.size(0)\n",
        "        train_correct += (predicted == labels).sum().item()\n",
        "\n",
        "    train_accuracy = 100 * train_correct / total\n",
        "\n",
        "    # Validation\n",
        "    model.eval()\n",
        "    val_loss, val_correct, val_total = 0, 0, 0\n",
        "    with torch.no_grad():\n",
        "        for images, labels in val_loader:\n",
        "            images, labels = images.to(device), labels.to(device)\n",
        "            outputs = model(images)\n",
        "            loss = criterion(outputs, labels)\n",
        "\n",
        "            val_loss += loss.item()\n",
        "            _, predicted = torch.max(outputs.data, 1)\n",
        "            val_total += labels.size(0)\n",
        "            val_correct += (predicted == labels).sum().item()\n",
        "\n",
        "    val_accuracy = 100 * val_correct / val_total\n",
        "\n",
        "    print(f\"Epoch [{epoch+1}/{num_epochs}] \"\n",
        "          f\"Train Loss: {train_loss:.4f}, Train Acc: {train_accuracy:.2f}%, \"\n",
        "          f\"Val Loss: {val_loss:.4f}, Val Acc: {val_accuracy:.2f}%\")\n"
      ],
      "metadata": {
        "id": "4ZOlTehfGo8W"
      },
      "execution_count": null,
      "outputs": []
    },
    {
      "cell_type": "code",
      "source": [
        "torch.save(model.state_dict(), \"/content/drive/MyDrive/deepfake_cnn.pth\")\n"
      ],
      "metadata": {
        "id": "fMIkBqAlK-cj"
      },
      "execution_count": null,
      "outputs": []
    },
    {
      "cell_type": "code",
      "source": [
        "# ... (previous code, including imports, model definition, training, etc.)\n",
        "\n",
        "# Make sure full_dataset is defined (load your dataset)\n",
        "from torchvision import datasets, transforms\n",
        "from torch.utils.data import DataLoader, random_split\n",
        "from PIL import Image\n",
        "import os\n",
        "\n",
        "# Assuming data_path and transform are already defined\n",
        "# data_path = \"/content/drive/MyDrive/AI-face-detection-Dataset\"\n",
        "# transform = transforms.Compose(...)\n",
        "\n",
        "full_dataset = datasets.ImageFolder(root=data_path, transform=transform)\n",
        "\n",
        "\n",
        "def predict_image(image_path, model, transform, class_names):\n",
        "    model.eval()\n",
        "    image = Image.open(image_path).convert(\"RGB\")\n",
        "    image = transform(image).unsqueeze(0).to(device)\n",
        "    output = model(image)\n",
        "    _, predicted = torch.max(output, 1)\n",
        "    return class_names[predicted.item()]\n",
        "\n",
        "# Get class names from your dataset\n",
        "class_names = full_dataset.classes\n",
        "\n",
        "# Call predict_image with the correct arguments\n",
        "result = predict_image(\"/content/b92f8fb9-a225-4975-bd3b-8c7a422dff6a.jpg\", model, transform, class_names)\n",
        "print(\"Prediction:\", result)"
      ],
      "metadata": {
        "colab": {
          "base_uri": "https://localhost:8080/"
        },
        "id": "s72wYmWsK_RL",
        "outputId": "98c93ab1-a590-4c1d-e0c9-cfe363cd5aab"
      },
      "execution_count": null,
      "outputs": [
        {
          "output_type": "stream",
          "name": "stdout",
          "text": [
            "Prediction: AI\n"
          ]
        }
      ]
    },
    {
      "cell_type": "code",
      "source": [
        "# ... (previous code, including imports, model definition, training, etc.)\n",
        "\n",
        "def predict_image(image_path, model, transform, class_names):\n",
        "    model.eval()\n",
        "    image = Image.open(image_path).convert(\"RGB\")\n",
        "    image = transform(image).unsqueeze(0).to(device)\n",
        "    output = model(image)\n",
        "    _, predicted = torch.max(output, 1)\n",
        "    return class_names[predicted.item()]\n",
        "\n",
        "# Get class names from your dataset\n",
        "class_names = full_dataset.classes\n",
        "\n",
        "# Call predict_image with the correct arguments\n",
        "result = predict_image(\"/content/WIN_20250328_14_02_30_Pro.jpg\", model, transform, class_names)\n",
        "print(\"Prediction:\", result)"
      ],
      "metadata": {
        "colab": {
          "base_uri": "https://localhost:8080/"
        },
        "id": "C0rLESbhLwN7",
        "outputId": "44f67b9d-b2d9-4b2e-f358-4d0cdd76fd3b"
      },
      "execution_count": null,
      "outputs": [
        {
          "output_type": "stream",
          "name": "stdout",
          "text": [
            "Prediction: real\n"
          ]
        }
      ]
    },
    {
      "cell_type": "code",
      "source": [
        "import torch\n",
        "from sklearn.metrics import (\n",
        "    accuracy_score,\n",
        "    confusion_matrix,\n",
        "    classification_report,\n",
        "    roc_curve,\n",
        "    auc,\n",
        ")\n",
        "import matplotlib.pyplot as plt\n",
        "\n",
        "# ——— 1. Load your trained model weights on the correct device ———\n",
        "model = DeepfakeCNN().to(device)\n",
        "\n",
        "# this makes sure CUDA tensors get loaded onto CPU if CUDA isn’t available\n",
        "checkpoint = torch.load(\n",
        "    \"/content/drive/MyDrive/deepfake_cnn.pth\",\n",
        "    map_location=device\n",
        ")\n",
        "model.load_state_dict(checkpoint)\n",
        "model.eval()\n",
        "\n",
        "# ——— 2. Collect ground-truths, predictions, and predicted probabilities ———\n",
        "all_labels = []\n",
        "all_preds  = []\n",
        "all_probs  = []   # probability of “positive” class: e.g. class index 1\n",
        "\n",
        "with torch.no_grad():\n",
        "    for images, labels in val_loader:\n",
        "        images = images.to(device)\n",
        "        outputs = model(images)                     # raw logits\n",
        "        probs   = torch.softmax(outputs, dim=1)[:,1] # P(class=1)\n",
        "        preds   = outputs.argmax(dim=1).cpu().numpy()\n",
        "\n",
        "        all_labels.extend(labels.numpy())\n",
        "        all_preds.extend(preds)\n",
        "        all_probs.extend(probs.cpu().numpy())\n",
        "\n",
        "# ——— 3. Compute metrics ———\n",
        "acc    = accuracy_score(all_labels, all_preds)\n",
        "cm     = confusion_matrix(all_labels, all_preds)\n",
        "report = classification_report(all_labels, all_preds, target_names=class_names)\n",
        "\n",
        "# ROC\n",
        "fpr, tpr, thresholds = roc_curve(all_labels, all_probs)\n",
        "roc_auc = auc(fpr, tpr)\n",
        "\n",
        "# ——— 4. Print results ———\n",
        "print(f\"Validation Accuracy: {acc*100:.2f}%\\n\")\n",
        "print(\"Confusion Matrix:\")\n",
        "print(cm, \"\\n\")\n",
        "print(\"Classification Report:\")\n",
        "print(report)\n",
        "\n",
        "print(f\"ROC AUC: {roc_auc:.4f}\")\n",
        "\n",
        "# ——— 5. Plot ROC curve ———\n",
        "plt.figure(figsize=(6,6))\n",
        "plt.plot(fpr, tpr, label=f\"ROC (AUC = {roc_auc:.2f})\")\n",
        "plt.plot([0,1], [0,1], '--', label=\"Chance\")\n",
        "plt.xlabel(\"False Positive Rate\")\n",
        "plt.ylabel(\"True Positive Rate\")\n",
        "plt.title(\"Validation ROC Curve\")\n",
        "plt.legend(loc=\"lower right\")\n",
        "plt.grid(True)\n",
        "plt.show()\n",
        "\n",
        "\n",
        "\n"
      ],
      "metadata": {
        "colab": {
          "base_uri": "https://localhost:8080/",
          "height": 859
        },
        "id": "K3X1uexkFlmy",
        "outputId": "0f3631a6-13a2-40c9-d46c-de189daeff2f"
      },
      "execution_count": null,
      "outputs": [
        {
          "output_type": "stream",
          "name": "stdout",
          "text": [
            "Validation Accuracy: 99.69%\n",
            "\n",
            "Confusion Matrix:\n",
            "[[205   2]\n",
            " [  0 434]] \n",
            "\n",
            "Classification Report:\n",
            "              precision    recall  f1-score   support\n",
            "\n",
            "          AI       1.00      0.99      1.00       207\n",
            "        real       1.00      1.00      1.00       434\n",
            "\n",
            "    accuracy                           1.00       641\n",
            "   macro avg       1.00      1.00      1.00       641\n",
            "weighted avg       1.00      1.00      1.00       641\n",
            "\n",
            "ROC AUC: 1.0000\n"
          ]
        },
        {
          "output_type": "display_data",
          "data": {
            "text/plain": [
              "<Figure size 600x600 with 1 Axes>"
            ],
            "image/png": "[encoded data removed]"
          },
          "metadata": {}
        }
      ]
    }
  ]
}